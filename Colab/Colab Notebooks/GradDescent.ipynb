{
 "cells": [
  {
   "cell_type": "code",
   "execution_count": 40,
   "id": "initial_id",
   "metadata": {
    "collapsed": true,
    "ExecuteTime": {
     "end_time": "2024-02-10T22:18:56.944508400Z",
     "start_time": "2024-02-10T22:18:56.932554900Z"
    }
   },
   "outputs": [
    {
     "name": "stdout",
     "output_type": "stream",
     "text": [
      "[ 1.6 -1. ]\n"
     ]
    }
   ],
   "source": [
    "import numpy as np\n",
    "import matplotlib.pyplot as plt\n",
    "\n",
    "x_train = np.array([[10, 50], [20, 30], [25, 30], [20, 60], [15, 70], [40, 40], [30, 45], [20, 45], [40, 30], [7, 35]])\n",
    "y_train = np.array([-1, 1, 1, -1, -1, 1, 1, -1, 1, -1])\n",
    "w = np.array([0, -1])\n",
    "n = 10\n",
    "coefficient = 0.4\n",
    "for i in range(n):\n",
    "    x = np.array(x_train[i]).T\n",
    "    y = y_train[i]\n",
    "    if (w @ x) * y < 0:\n",
    "        w = np.array([w[0] + coefficient * y, -1])\n",
    "    Q = 0\n",
    "    for j in range(n):\n",
    "        Q += ((w @ x_train[j]) * y_train[j]) > 0\n",
    "    if not Q:\n",
    "        break\n",
    "print(w)"
   ]
  },
  {
   "cell_type": "code",
   "outputs": [
    {
     "name": "stdout",
     "output_type": "stream",
     "text": [
      "[1.6000000000000003, -1]\n"
     ]
    }
   ],
   "source": [
    "import numpy as np\n",
    "import matplotlib.pyplot as plt\n",
    "\n",
    "x_train = np.array([[10, 50], [20, 30], [25, 30], [20, 60], [15, 70], [40, 40], [30, 45], [20, 45], [40, 30], [7, 35]])\n",
    "y_train = np.array([-1, 1, 1, -1, -1, 1, 1, -1, 1, -1])\n",
    "\n",
    "n_train = len(x_train)                          # размер обучающей выборки\n",
    "w = [0, -1]                                     # начальное значение вектора w\n",
    "a = lambda x: np.sign(x[0]*w[0] + x[1]*w[1])    # решающее правило\n",
    "N = 50                                          # максимальное число итераций\n",
    "L = 0.1                                         # шаг изменения веса\n",
    "e = 0.1                                         # небольшая добавка для w0 чтобы был зазор между разделяющей линией и граничным образом\n",
    "\n",
    "last_error_index = -1                           # индекс последнего ошибочного наблюдения\n",
    "\n",
    "for n in range(N):\n",
    "    for i in range(n_train):                # перебор по наблюдениям\n",
    "        if y_train[i]*a(x_train[i]) < 0:    # если ошибка классификации,\n",
    "            w[0] = w[0] + L * y_train[i]    # то корректировка веса w0\n",
    "            last_error_index = i\n",
    "\n",
    "    Q = sum([1 for i in range(n_train) if y_train[i]*a(x_train[i]) < 0])\n",
    "    if Q == 0:      # показатель качества классификации (число ошибок)\n",
    "        break       # останов, если все верно классифицируем\n",
    "\n",
    "if last_error_index > -1:\n",
    "    w[0] = w[0] + e * y_train[last_error_index]\n",
    "\n",
    "print(w)"
   ],
   "metadata": {
    "collapsed": false,
    "ExecuteTime": {
     "end_time": "2024-02-10T22:17:25.231169800Z",
     "start_time": "2024-02-10T22:17:25.209997400Z"
    }
   },
   "id": "ce1717906bab5a81",
   "execution_count": 32
  },
  {
   "cell_type": "code",
   "outputs": [],
   "source": [],
   "metadata": {
    "collapsed": false
   },
   "id": "870e441805ccd01e"
  }
 ],
 "metadata": {
  "kernelspec": {
   "display_name": "Python 3",
   "language": "python",
   "name": "python3"
  },
  "language_info": {
   "codemirror_mode": {
    "name": "ipython",
    "version": 2
   },
   "file_extension": ".py",
   "mimetype": "text/x-python",
   "name": "python",
   "nbconvert_exporter": "python",
   "pygments_lexer": "ipython2",
   "version": "2.7.6"
  }
 },
 "nbformat": 4,
 "nbformat_minor": 5
}
